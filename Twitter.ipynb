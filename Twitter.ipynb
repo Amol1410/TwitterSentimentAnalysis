{
  "nbformat": 4,
  "nbformat_minor": 0,
  "metadata": {
    "colab": {
      "name": "Twitter.ipynb",
      "provenance": [],
      "collapsed_sections": [],
      "authorship_tag": "ABX9TyP9k66ifiugCs6gIWQlRuyW",
      "include_colab_link": true
    },
    "kernelspec": {
      "name": "python3",
      "display_name": "Python 3"
    },
    "language_info": {
      "name": "python"
    }
  },
  "cells": [
    {
      "cell_type": "markdown",
      "metadata": {
        "id": "view-in-github",
        "colab_type": "text"
      },
      "source": [
        "<a href=\"https://colab.research.google.com/github/Amol1410/TwitterSentimentAnalysis/blob/main/Twitter.ipynb\" target=\"_parent\"><img src=\"https://colab.research.google.com/assets/colab-badge.svg\" alt=\"Open In Colab\"/></a>"
      ]
    },
    {
      "cell_type": "markdown",
      "metadata": {
        "id": "S4G4Y-VFTBmM"
      },
      "source": [
        "## **Importing the libraries**"
      ]
    },
    {
      "cell_type": "code",
      "metadata": {
        "id": "9yEI7v2lzK7N"
      },
      "source": [
        "import tweepy\n",
        "from textblob import TextBlob\n",
        "import matplotlib.pyplot as plt\n",
        "\n",
        "import re\n",
        "import string\n",
        "import pandas as pd\n",
        "import numpy as np\n",
        "\n",
        "from nltk.corpus import stopwords\n",
        "from nltk.tokenize import word_tokenize\n",
        "from nltk.stem import PorterStemmer\n",
        "from nltk.stem import WordNetLemmatizer\n",
        "#from sklearn.feature_extraction.text import TfidfVectorizer\n",
        "#from sklearn.model_selection import train_test_split"
      ],
      "execution_count": 1,
      "outputs": []
    },
    {
      "cell_type": "markdown",
      "metadata": {
        "id": "l11MNicaVnbs"
      },
      "source": [
        "## **Connecting the Twitter API**"
      ]
    },
    {
      "cell_type": "code",
      "metadata": {
        "id": "T5OKecvKzf8g"
      },
      "source": [
        "# to connect as OAth handler or jump serever / revers proxy server\n",
        "consumer_key = \"NZJjdtvyZOQa3TO1rawPQa8SM\"\n",
        "consumer_secret = \"LjdxqqfHMDy5YRcn5xB9NhDCEuYD0Ihn6FVgNVWRxvCdAFIk4i\"\n",
        "\n",
        "# from proxy server we need to connect\n",
        "access_token = \"1449341869494734849-m7v7gvcNralQ5z2jKmk8qN4rV1aNXV\"\n",
        "access_token_secret = \"HJzmiUAQOoCpb4gmrtDn6BiAMctIwWccWnPbCZpL8Wfws\""
      ],
      "execution_count": 2,
      "outputs": []
    },
    {
      "cell_type": "code",
      "metadata": {
        "id": "Dt-szphkzmmj"
      },
      "source": [
        "# To connect jump server of twitter\n",
        "auth = tweepy.OAuthHandler(consumer_key,consumer_secret)\n",
        "\n",
        "# To connect from jump server to web server of twitter\n",
        "auth.set_access_token(access_token,access_token_secret)\n",
        "\n",
        "# To connect to API storge server of twitter\n",
        "api_connect = tweepy.API(auth)"
      ],
      "execution_count": 3,
      "outputs": []
    },
    {
      "cell_type": "markdown",
      "metadata": {
        "id": "ml9ONNuaWncg"
      },
      "source": [
        "## **Collecting the Tweets**"
      ]
    },
    {
      "cell_type": "code",
      "metadata": {
        "colab": {
          "base_uri": "https://localhost:8080/"
        },
        "id": "GHZQ-Y51XIsF",
        "outputId": "a926288c-b6d0-43ba-e6cd-9a2ab56d906a"
      },
      "source": [
        "# Enter the Keyword and no. of tweets\n",
        "keyword = input(\"Enter Keyword : \")\n",
        "noOfterms = input(\"How many tweets : \")"
      ],
      "execution_count": 4,
      "outputs": [
        {
          "name": "stdout",
          "output_type": "stream",
          "text": [
            "Enter Keyword : Rahul\n",
            "How many tweets : 69\n"
          ]
        }
      ]
    },
    {
      "cell_type": "code",
      "metadata": {
        "id": "HfA98YibX9xc"
      },
      "source": [
        "tweets = api_connect.search(keyword, count=noOfterms)"
      ],
      "execution_count": 5,
      "outputs": []
    },
    {
      "cell_type": "code",
      "metadata": {
        "colab": {
          "base_uri": "https://localhost:8080/"
        },
        "id": "2avimNHgN3-o",
        "outputId": "72e70265-e2ba-4f65-f5b9-cec0a752a8c2"
      },
      "source": [
        "for tweet in tweets:\n",
        "  print(tweet.text)\n",
        "#tweets.text"
      ],
      "execution_count": 6,
      "outputs": [
        {
          "output_type": "stream",
          "name": "stdout",
          "text": [
            "RT @Nierbhaym: हमारे जीवन में अच्छे लोग खुशियां देते है, और \n",
            "कुछ लोग हमें सीखने का सबक देते है !!!\n",
            "\n",
            "#हर____हर___महादेव 🙏\n",
            "शुभ संध्या 🙏 https…\n",
            "RT @JnuKarl: When someone asks you a series of posts on \n",
            "\n",
            "“ How to celebrate Miladi Nabi in a peaceful  way without any bloodshed of innoce…\n",
            "RT @_Rishika_01: वादा करती हूँ 1OO फॉलोवर्स तुरंत पाए,\n",
            "\n",
            "सिर्फ रिट्वीट करें रिट्वीट करने वालो को फॉलो करे !!\n",
            "RT @SonyLIV: SonyLIV announces a new series Pulwama Key No. 1026, helmed by National award-winning director - Onir and based on award-winni…\n",
            "RT @SNsinghmla: सरल सौम्य, तेजतर्रार, लोकप्रिय युवा साथी श्री\n",
            "@AnujBajpai_ जी आपको जन्मदिन की बहुत बहुत बधाई एवं अनंत शुभकामनाएं । \n",
            "\n",
            "बाबा…\n",
            "@Rahul_Rohit3 Yems 😎\n",
            "RT @amitmalviya: Earlier a senior Congress beat reporter was turned out of Rahul Gandhi’s PC for asking a factual question, not even an unc…\n",
            "@Rahul_ss73 Let's interact more....But I still feel bad for ya cause there's like 5 people who should not be in her… https://t.co/vdSniEk8WE\n",
            "RT @IndianFootball: Midfielders: Suresh Singh, Amarjit Singh, Lalengmawia, Jeakson Singh, Deepak Tangri, Rahul KP, Komal Thatal, Nikhil Raj…\n",
            "@INCTamilNadu Rahul Gandhi Garu, what is this ??? https://t.co/6AwighOwe1\n",
            "RT @hazharoon: Fayyaz Butt to KL Rahul in 2010🤩\n",
            "\n",
            "The batsman in this video has played 127 games for his country🤟\n",
            "\n",
            "The bowler in this video…\n",
            "RT @XiaomiIndia: “We dream in colors borrowed from the sea.”\n",
            "\n",
            "Shot On #Mi11X by Xiaomi Creator Rahul Vangani\n",
            "\n",
            "#ShotOnXiaomi https://t.co/zL…\n",
            "RT @galattadotcom: எல்லையில் எல்லையில்லா அன்புடன் தல😍❤\n",
            "\n",
            "#ThalaAjith #Thala #AjithKumar #Valimai #Wagah https://t.co/gw1hAXBzwy\n",
            "RT @MazherArshad: Trivia: Fayyaz Butt, who is playing for Oman in the T20 World Cup, represented Pakistan in U19 World Cup 2010 in New Zeal…\n",
            "RT @TheDhoniEra: \"I would love to see MS Dhoni play for lot more years if he could.”...!\n",
            "           - KL Rahul ❤️\n",
            "\n",
            "@msdhoni • #MSDhoni • #W…\n",
            "RT @JaphetMarcus: The BJP is aware mamta will land up like the AAP nowhere, by the next decade. The idea to float small parties is to eat i…\n",
            "@LaportaEra 😎😎❤\n",
            "Sidhu Rahul will have sleepless nights starting from tonight and Channi will do his Bhangra now\n",
            "RT @SilentlyFluent: After Virat Kohli and Rohit Sharma, KL Rahul is India's 3rd best batsman at the moment.(considering all 3 formats) http…\n",
            "RT @SilentlyFluent: After Virat Kohli and Rohit Sharma, KL Rahul is India's 3rd best batsman at the moment.(considering all 3 formats) http…\n",
            "#IndvsPak  MS Dhoni Virat Kohli discuss who will open along with Rohit Sharma in T20 World Cup it's KL Rahul or Ish… https://t.co/8Qpsd8B7zh\n",
            "RT @prasunmaitra: After WB assembly poll, @MamataOfficial has become an instrument of @narendramodi to downsize @INCIndia votes &amp; that’s wh…\n",
            "RT @desimojito: @srivatsayb Says a guy who book Bangkok tickets of Rahul Gandhi every fortnight 🤣😂😂😂\n",
            "RT @MazherArshad: Trivia: Fayyaz Butt, who is playing for Oman in the T20 World Cup, represented Pakistan in U19 World Cup 2010 in New Zeal…\n",
            "@rcm8307 @aparanjape @SEAPune @MCCIA_Pune @Girbane @sudhirmehtapune @punetech Thanks Rahul!\n",
            "RT @Trendswoodcom: Bigg Boss Tamil Season 3 Title Winner Mugen's #Velan Teaser \n",
            "\n",
            "Direction : Kavin M \n",
            "Starring : Mugen, Meenakshi Govindhar…\n",
            "RT @AsopaSanidhya: Rahul in Aashiqui 2, after watching Arohi singing at bar : https://t.co/k72GUVQD5z\n",
            "@scribe_prashant @rohini_sgh Rahul Gandi was so right in removing Amarinder\n",
            "RT @mufaddal_vohra: KL Rahul said, \"I would love to see MS Dhoni play for a lot more years if he could. It was great to see how CSK played…\n",
            "RT @Dishaka17: Wo log Rahul ke Rap ke liye Negative comments kr rhe hain ab.. Aur Rahul ne  insta story hi upload kr di 🤣\n",
            "\n",
            "#RahulVaidya #RK…\n",
            "@anushakunmittal @scribe_prashant Trust me Rahul Gandhi is a sanghi too... That's y I'll never vote for him.\n",
            "@jayanthvjkumar @ashwinravi99 https://t.co/hoBGsjNqs7\n",
            "\n",
            "Babar azam reaction on kl rahul bating\n",
            "@Saruto03 U pushed me out of circle😤🥺\n",
            "RT @UWCforYouth: BJP Leaders must first have a close look at the list of their leaders with criminal records before giving such derogatory…\n",
            "@mammukka\n",
            "#Mammootty #Mammukka\n",
            "#BheeshmaParvam 🕹️\n",
            "@mammukka\n",
            "#Mammootty #Mammukka\n",
            "#BheeshmaParvam 🕹️\n",
            "@mammukka\n",
            "#Mammootty #Mammukka\n",
            "#BheeshmaParvam 🕹️\n",
            "@mammukka\n",
            "#Mammootty #Mammukka\n",
            "#BheeshmaParvam 🕹️\n",
            "RT @PunjabKingsIPL: “Things were different before IPL started and now KL Rahul is playing the way he is, so it’s very hard to look past him…\n",
            "@mammukka\n",
            "#Mammootty #Mammukka\n",
            "#BheeshmaParvam 🕹️\n",
            "@VijaySi58503915 @rishibagree Rahul gandhi bhi to chup hai, ese to har jagah muh khulta hai usaka\n",
            "RT @man4_cricket: \"None of us are sure that IPL 2021 Final was his (MS Dhoni) last game. I do not think, I would love to see MS Dhoni play…\n",
            "@mammukka\n",
            "#Mammootty #Mammukka\n",
            "#BheeshmaParvam 🕹️\n",
            "@adaydream29 @umarxdonal Rahul Vaidya also gone home..\n",
            "@mammukka\n",
            "#Mammootty #Mammukka\n",
            "#BheeshmaParvam 🕹️\n",
            "@mammukka\n",
            "#Mammootty #Mammukka\n",
            "#BheeshmaParvam 🕹️\n",
            "RT @desimojito: @srivatsayb Says a guy who book Bangkok tickets of Rahul Gandhi every fortnight 🤣😂😂😂\n",
            "@mammukka\n",
            "#Mammootty #Mammukka\n",
            "#BheeshmaParvam 🕹️\n",
            "@mammukka\n",
            "#Mammootty #Mammukka\n",
            "#BheeshmaParvam 🕹️\n",
            "@mammukka\n",
            "#Mammootty #Mammukka\n",
            "#BheeshmaParvam 🕹️\n",
            "RT @TimesNow: #HinduPhobialsReal | Bangladesh bigotry justified. 'They deserve to be beheaded'. Left-Congress ally shocks India. Anti-Hindu…\n",
            "RT @jiplibrary: सारे    गुनाह  चुप  हैं\n",
            "सच के निबाह चुप हैं।\n",
            "जनता   जवाब   माँगे\n",
            "आलमपनाह  चुप  हैं।\n",
            "\n",
            "• लोकेश कुमार सिंह 'साहिल'\n",
            "@mammukka\n",
            "#Mammootty #Mammukka\n",
            "#BheeshmaParvam 🕹️\n",
            "@mammukka\n",
            "#Mammootty #Mammukka\n",
            "#BheeshmaParvam 🕹️\n",
            "@mammukka\n",
            "#Mammootty #Mammukka\n",
            "#BheeshmaParvam 🕹️\n",
            "@mammukka\n",
            "#Mammootty #Mammukka\n",
            "#BheeshmaParvam 🕹️\n",
            "RT @AartiTikoo: If anyone wants to learn how to pursue dispassionate rigorous scholarship in today’s India, read @vikramsampath’s books,  N…\n",
            "@cricketaakash Kl rahul\n",
            "@mammukka\n",
            "#Mammootty #Mammukka\n",
            "#BheeshmaParvam 🕹️\n",
            "@CryptoDiamonds @the_vogu @LalitThakare16 @Fantasy26912726 @nikhilrajumooly @genecarlota\n",
            "@mammukka\n",
            "#Mammootty #Mammukka\n",
            "#BheeshmaParvam 🕹️\n",
            "@mammukka\n",
            "#Mammootty #Mammukka\n",
            "#BheeshmaParvam 🕹️\n",
            "RT @UWCforYouth: BJP Leaders must first have a close look at the list of their leaders with criminal records before giving such derogatory…\n",
            "@mammukka\n",
            "#Mammootty #Mammukka\n",
            "#BheeshmaParvam 🕹️\n",
            "@mammukka\n",
            "#Mammootty #Mammukka\n",
            "#BheeshmaParvam 🕹️\n",
            "@mammukka\n",
            "#Mammootty #Mammukka\n",
            "#BheeshmaParvam 🕹️\n",
            "RT @manju_IND: @Rahul_Banarasee @IskconInc वाह \n",
            "\n",
            "#जय_श्री_राधे_कृष्ण\n",
            "RT @TheDhoniEra: \"I would love to see MS Dhoni play for lot more years if he could.”...!\n",
            "           - KL Rahul ❤️\n",
            "\n",
            "@msdhoni • #MSDhoni • #W…\n",
            "@mammukka\n",
            "#Mammootty #Mammukka\n",
            "#BheeshmaParvam 🕹️\n"
          ]
        }
      ]
    },
    {
      "cell_type": "markdown",
      "metadata": {
        "id": "BZHvg2kOaQZx"
      },
      "source": [
        "## **Preprocessing the Tweets**"
      ]
    },
    {
      "cell_type": "code",
      "metadata": {
        "colab": {
          "base_uri": "https://localhost:8080/"
        },
        "id": "DYNhGkrIaXfP",
        "outputId": "98e8693a-fa4c-4964-9ce5-37b385143112"
      },
      "source": [
        "import nltk\n",
        "nltk.download('stopwords')\n",
        "nltk.download('punkt')\n",
        "nltk.download('wordnet')\n",
        "stop_words = set(stopwords.words('english'))"
      ],
      "execution_count": 7,
      "outputs": [
        {
          "output_type": "stream",
          "name": "stdout",
          "text": [
            "[nltk_data] Downloading package stopwords to /root/nltk_data...\n",
            "[nltk_data]   Unzipping corpora/stopwords.zip.\n",
            "[nltk_data] Downloading package punkt to /root/nltk_data...\n",
            "[nltk_data]   Unzipping tokenizers/punkt.zip.\n",
            "[nltk_data] Downloading package wordnet to /root/nltk_data...\n",
            "[nltk_data]   Unzipping corpora/wordnet.zip.\n"
          ]
        }
      ]
    },
    {
      "cell_type": "code",
      "metadata": {
        "id": "VBP44tkFA9fJ",
        "colab": {
          "base_uri": "https://localhost:8080/"
        },
        "outputId": "d83198e1-4146-4b8d-e607-837b15832359"
      },
      "source": [
        "for tweet in tweets:\n",
        "  #to lowercase\n",
        "  tweet = str(tweet.text).lower()\n",
        "\n",
        "  # Removing URL\n",
        "  tweet = re.sub(r\"https\\S+|www\\S+|https\\S+\", \"\", tweet, flags=re.MULTILINE)\n",
        "\n",
        "  # Removing punctuations\n",
        "  tweet = tweet.translate(str.maketrans(\"\", \"\", string.punctuation))\n",
        "\n",
        "  # Removing special characters\n",
        "  tweet = re.sub(r'\\@\\w+|#', \"\", tweet)\n",
        "  \n",
        "  # Tokenization\n",
        "  tweet_tokens = word_tokenize(tweet)\n",
        "  filter_words = [word for word in tweet_tokens if word not in stop_words]\n",
        "\n",
        "  # Stemming\n",
        "  ps = PorterStemmer()\n",
        "  stem_words = [ps.stem(w) for w in tweet_tokens]\n",
        "  #for w in tweet_tokens:\n",
        "  #  stem_words.append(PorterStemmer.stem(w))\n",
        "\n",
        "  # Lemmatizing\n",
        "  lemmatizer = WordNetLemmatizer()\n",
        "  lemma_words = [lemmatizer.lemmatize(w, pos='a') for w in stem_words]\n",
        "\n",
        "  tweet = \" \".join(lemma_words)\n",
        "  print(tweet)"
      ],
      "execution_count": 8,
      "outputs": [
        {
          "output_type": "stream",
          "name": "stdout",
          "text": [
            "rt nierbhaym हमारे जीवन में अच्छे लोग खुशियां देते है और कुछ लोग हमें सीखने का सबक देते है हरहरमहादेव 🙏 शुभ संध्या 🙏\n",
            "rt jnukarl when someon ask you a seri of post on “ how to celebr miladi nabi in a peac way without ani bloodsh of innoce…\n",
            "rt rishika01 वादा करती हूँ 1oo फॉलोवर्स तुरंत पाए सिर्फ रिट्वीट करें रिट्वीट करने वालो को फॉलो करे\n",
            "rt sonyliv sonyliv announc a new seri pulwama key no 1026 helm by nation awardwin director onir and base on awardwinni…\n",
            "rt snsinghmla सरल सौम्य तेजतर्रार लोकप्रिय युवा साथी श्री anujbajpai जी आपको जन्मदिन की बहुत बहुत बधाई एवं अनंत शुभकामनाएं । बाबा…\n",
            "rahulrohit3 yem 😎\n",
            "rt amitmalviya early a senior congress beat report wa turn out of rahul gandhi ’ s pc for ask a factual question not even an unc…\n",
            "rahulss73 let interact morebut i still feel bad for ya caus there like 5 peopl who should not be in her…\n",
            "rt indianfootbal midfield suresh singh amarjit singh lalengmawia jeakson singh deepak tangri rahul kp komal thatal nikhil raj…\n",
            "inctamilnadu rahul gandhi garu what is thi\n",
            "rt hazharoon fayyaz butt to kl rahul in 2010🤩 the batsman in thi video ha play 127 game for hi country🤟 the bowler in thi video…\n",
            "rt xiaomiindia “ we dream in color borrow from the sea ” shot on mi11x by xiaomi creator rahul vangani shotonxiaomi\n",
            "rt galattadotcom எல்லையில் எல்லையில்லா அன்புடன் தல😍❤ thalaajith thala ajithkumar valimai wagah\n",
            "rt mazherarshad trivia fayyaz butt who is play for oman in the t20 world cup repres pakistan in u19 world cup 2010 in new zeal…\n",
            "rt thedhoniera i would love to see ms dhoni play for lot more year if he could ” kl rahul ❤️ msdhoni • msdhoni • w…\n",
            "rt japhetmarcu the bjp is awar mamta will land up like the aap nowher by the next decad the idea to float small parti is to eat i…\n",
            "laportaera 😎😎❤\n",
            "sidhu rahul will have sleepless night start from tonight and channi will do hi bhangra now\n",
            "rt silentlyflu after virat kohli and rohit sharma kl rahul is india 3rd best batsman at the momentconsid all 3 format http…\n",
            "rt silentlyflu after virat kohli and rohit sharma kl rahul is india 3rd best batsman at the momentconsid all 3 format http…\n",
            "indvspak ms dhoni virat kohli discuss who will open along with rohit sharma in t20 world cup it kl rahul or ish…\n",
            "rt prasunmaitra after wb assembl poll mamataoffici ha becom an instrument of narendramodi to downsiz incindia vote amp that ’ s wh…\n",
            "rt desimojito srivatsayb say a guy who book bangkok ticket of rahul gandhi everi fortnight 🤣😂😂😂\n",
            "rt mazherarshad trivia fayyaz butt who is play for oman in the t20 world cup repres pakistan in u19 world cup 2010 in new zeal…\n",
            "rcm8307 aparanjap seapun mcciapun girban sudhirmehtapun punetech thank rahul\n",
            "rt trendswoodcom bigg boss tamil season 3 titl winner mugen velan teaser direct kavin m star mugen meenakshi govindhar…\n",
            "rt asopasanidhya rahul in aashiqui 2 after watch arohi sing at bar\n",
            "scribeprash rohinisgh rahul gandi wa so right in remov amarind\n",
            "rt mufaddalvohra kl rahul said i would love to see ms dhoni play for a lot more year if he could it wa great to see how csk played…\n",
            "rt dishaka17 wo log rahul ke rap ke liy neg comment kr rhe hain ab aur rahul ne insta stori hi upload kr di 🤣 rahulvaidya rk…\n",
            "anushakunmitt scribeprash trust me rahul gandhi is a sanghi too that y ill never vote for him\n",
            "jayanthvjkumar ashwinravi99 babar azam reaction on kl rahul bate\n",
            "saruto03 u push me out of circle😤🥺\n",
            "rt uwcforyouth bjp leader must first have a close look at the list of their leader with crimin record befor give such derogatory…\n",
            "mammukka mammootti mammukka bheeshmaparvam 🕹️\n",
            "mammukka mammootti mammukka bheeshmaparvam 🕹️\n",
            "mammukka mammootti mammukka bheeshmaparvam 🕹️\n",
            "mammukka mammootti mammukka bheeshmaparvam 🕹️\n",
            "rt punjabkingsipl “ thing were differ befor ipl start and now kl rahul is play the way he is so it ’ s veri hard to look past him…\n",
            "mammukka mammootti mammukka bheeshmaparvam 🕹️\n",
            "vijaysi58503915 rishibagre rahul gandhi bhi to chup hai ese to har jagah muh khulta hai usaka\n",
            "rt man4cricket none of us are sure that ipl 2021 final wa hi ms dhoni last game i do not think i would love to see ms dhoni play…\n",
            "mammukka mammootti mammukka bheeshmaparvam 🕹️\n",
            "adaydream29 umarxdon rahul vaidya also gone home\n",
            "mammukka mammootti mammukka bheeshmaparvam 🕹️\n",
            "mammukka mammootti mammukka bheeshmaparvam 🕹️\n",
            "rt desimojito srivatsayb say a guy who book bangkok ticket of rahul gandhi everi fortnight 🤣😂😂😂\n",
            "mammukka mammootti mammukka bheeshmaparvam 🕹️\n",
            "mammukka mammootti mammukka bheeshmaparvam 🕹️\n",
            "mammukka mammootti mammukka bheeshmaparvam 🕹️\n",
            "rt timesnow hinduphobialsr bangladesh bigotri justifi they deserv to be behead leftcongress alli shock india antihindu…\n",
            "rt jiplibrari सारे गुनाह चुप हैं सच के निबाह चुप हैं। जनता जवाब माँगे आलमपनाह चुप हैं। • लोकेश कुमार सिंह साहिल\n",
            "mammukka mammootti mammukka bheeshmaparvam 🕹️\n",
            "mammukka mammootti mammukka bheeshmaparvam 🕹️\n",
            "mammukka mammootti mammukka bheeshmaparvam 🕹️\n",
            "mammukka mammootti mammukka bheeshmaparvam 🕹️\n",
            "rt aartitikoo if anyon want to learn how to pursu dispassion rigor scholarship in today ’ s india read vikramsampath ’ s book n…\n",
            "cricketaakash kl rahul\n",
            "mammukka mammootti mammukka bheeshmaparvam 🕹️\n",
            "cryptodiamond thevogu lalitthakare16 fantasy26912726 nikhilrajumooli genecarlota\n",
            "mammukka mammootti mammukka bheeshmaparvam 🕹️\n",
            "mammukka mammootti mammukka bheeshmaparvam 🕹️\n",
            "rt uwcforyouth bjp leader must first have a close look at the list of their leader with crimin record befor give such derogatory…\n",
            "mammukka mammootti mammukka bheeshmaparvam 🕹️\n",
            "mammukka mammootti mammukka bheeshmaparvam 🕹️\n",
            "mammukka mammootti mammukka bheeshmaparvam 🕹️\n",
            "rt manjuind rahulbanarase iskconinc वाह जयश्रीराधेकृष्ण\n",
            "rt thedhoniera i would love to see ms dhoni play for lot more year if he could ” kl rahul ❤️ msdhoni • msdhoni • w…\n",
            "mammukka mammootti mammukka bheeshmaparvam 🕹️\n"
          ]
        }
      ]
    },
    {
      "cell_type": "markdown",
      "metadata": {
        "id": "eaX1yFBRdCGi"
      },
      "source": [
        "## **Plotting Pie Chart and Bar Graph**"
      ]
    },
    {
      "cell_type": "code",
      "metadata": {
        "colab": {
          "base_uri": "https://localhost:8080/",
          "height": 279
        },
        "id": "2XpPexUkz0fh",
        "outputId": "6a2eb847-b215-4c68-ca9e-060b90087212"
      },
      "source": [
        "# Calculating no. of positive, negative and neutral tweets\n",
        "pos=0\n",
        "neg=0\n",
        "neu=0\n",
        "\n",
        "for tweet in tweets:\n",
        "  #here it will apply NLP\n",
        "  analysis = TextBlob(tweet.text)\n",
        "\n",
        "  if analysis.sentiment.polarity > 0:\n",
        "     pos=pos+1\n",
        "  elif analysis.sentiment.polarity == 0 :\n",
        "     neu=neu+1\n",
        "  else :\n",
        "     neg=neg+1\n",
        "print(pos,neg,neu)  \n",
        "# ploting graphs\n",
        "plt.xlabel(\"tags\")\n",
        "plt.ylabel(\"polarity\")\n",
        "plt.pie([pos,neg,neu],labels=['pos','neg','neu'],autopct=\"%1.1f%%\",colors=['green','red','yellow'])\n",
        "#plt.pie([pos,neg,neu],labels=['pos','neg','neu'],autopct=\"%1.1f%%\",colors=['green','green','green'])\n",
        "plt.show()"
      ],
      "execution_count": 22,
      "outputs": [
        {
          "output_type": "stream",
          "name": "stdout",
          "text": [
            "14 5 50\n"
          ]
        },
        {
          "output_type": "display_data",
          "data": {
            "image/png": "[encoded data removed]",
            "text/plain": [
              "<Figure size 432x288 with 1 Axes>"
            ]
          },
          "metadata": {}
        }
      ]
    },
    {
      "cell_type": "code",
      "metadata": {
        "colab": {
          "base_uri": "https://localhost:8080/",
          "height": 279
        },
        "id": "XCjo2AcMkrOh",
        "outputId": "9b484ed4-1921-4aeb-fb8a-a31b603af519"
      },
      "source": [
        "x = np.array(['pos','neg','neu'])\n",
        "y = np.array([pos,neg,neu])\n",
        "\n",
        "colors=['green','red','yellow']\n",
        "plt.bar(x, y, color = colors)\n",
        "\n",
        "plt.xlabel(\"Sentiment\")\n",
        "plt.ylabel(\"No. of tweets\")\n",
        "plt.show()"
      ],
      "execution_count": 21,
      "outputs": [
        {
          "output_type": "display_data",
          "data": {
            "image/png": "[encoded data removed]",
            "text/plain": [
              "<Figure size 432x288 with 1 Axes>"
            ]
          },
          "metadata": {
            "needs_background": "light"
          }
        }
      ]
    }
  ]
}