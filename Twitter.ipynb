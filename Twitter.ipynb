{
  "nbformat": 4,
  "nbformat_minor": 0,
  "metadata": {
    "colab": {
      "name": "Twitter.ipynb",
      "provenance": [],
      "collapsed_sections": [],
      "authorship_tag": "ABX9TyP8iSmc/w0+TtNiD3nN2p1K",
      "include_colab_link": true
    },
    "kernelspec": {
      "name": "python3",
      "display_name": "Python 3"
    },
    "language_info": {
      "name": "python"
    }
  },
  "cells": [
    {
      "cell_type": "markdown",
      "metadata": {
        "id": "view-in-github",
        "colab_type": "text"
      },
      "source": [
        "<a href=\"https://colab.research.google.com/github/Amol1410/TwitterSentimentAnalysis/blob/main/Twitter.ipynb\" target=\"_parent\"><img src=\"https://colab.research.google.com/assets/colab-badge.svg\" alt=\"Open In Colab\"/></a>"
      ]
    },
    {
      "cell_type": "markdown",
      "metadata": {
        "id": "S4G4Y-VFTBmM"
      },
      "source": [
        "## **Importing the libraries**"
      ]
    },
    {
      "cell_type": "code",
      "metadata": {
        "id": "9yEI7v2lzK7N"
      },
      "source": [
        "import tweepy\n",
        "from textblob import TextBlob\n",
        "import matplotlib.pyplot as plt\n",
        "\n",
        "import re\n",
        "import string\n",
        "import numpy as np\n",
        "\n",
        "from nltk.corpus import stopwords\n",
        "from nltk.tokenize import word_tokenize\n",
        "from nltk.stem import PorterStemmer\n",
        "from nltk.stem import WordNetLemmatizer"
      ],
      "execution_count": 12,
      "outputs": []
    },
    {
      "cell_type": "markdown",
      "metadata": {
        "id": "l11MNicaVnbs"
      },
      "source": [
        "## **Connecting the Twitter API**"
      ]
    },
    {
      "cell_type": "code",
      "metadata": {
        "id": "T5OKecvKzf8g"
      },
      "source": [
        "# to connect as OAth handler or jump serever / revers proxy server\n",
        "consumer_key = \"enter_key\"\n",
        "consumer_secret = \"enter_secret\"\n",
        "\n",
        "# from proxy server we need to connect\n",
        "access_token = \"enter_yours\"\n",
        "access_token_secret = \"enter_yours\""
      ],
      "execution_count": 2,
      "outputs": []
    },
    {
      "cell_type": "code",
      "metadata": {
        "id": "Dt-szphkzmmj"
      },
      "source": [
        "# To connect jump server of twitter\n",
        "auth = tweepy.OAuthHandler(consumer_key,consumer_secret)\n",
        "\n",
        "# To connect from jump server to web server of twitter\n",
        "auth.set_access_token(access_token,access_token_secret)\n",
        "\n",
        "# To connect to API storge server of twitter\n",
        "api_connect = tweepy.API(auth)"
      ],
      "execution_count": 3,
      "outputs": []
    },
    {
      "cell_type": "markdown",
      "metadata": {
        "id": "ml9ONNuaWncg"
      },
      "source": [
        "## **Collecting the Tweets**"
      ]
    },
    {
      "cell_type": "code",
      "metadata": {
        "colab": {
          "base_uri": "https://localhost:8080/"
        },
        "id": "GHZQ-Y51XIsF",
        "outputId": "3aebcf03-09b8-4fdc-db51-cbe329e2b42b"
      },
      "source": [
        "# Enter the Keyword and no. of tweets\n",
        "keyword = input(\"Enter Keyword : \")\n",
        "noOfterms = input(\"How many tweets : \")"
      ],
      "execution_count": 13,
      "outputs": [
        {
          "name": "stdout",
          "output_type": "stream",
          "text": [
            "Enter Keyword : biden\n",
            "How many tweets : 200\n"
          ]
        }
      ]
    },
    {
      "cell_type": "code",
      "metadata": {
        "id": "HfA98YibX9xc"
      },
      "source": [
        "tweets = api_connect.search(keyword, count=noOfterms)"
      ],
      "execution_count": 14,
      "outputs": []
    },
    {
      "cell_type": "code",
      "metadata": {
        "colab": {
          "base_uri": "https://localhost:8080/"
        },
        "id": "2avimNHgN3-o",
        "outputId": "c9122648-fde9-4974-945e-0c15d2f1efce"
      },
      "source": [
        "for tweet in tweets:\n",
        "  print(tweet.text)\n",
        "#tweets.text"
      ],
      "execution_count": 15,
      "outputs": [
        {
          "output_type": "stream",
          "name": "stdout",
          "text": [
            "RT @bocxtop: if joe biden not gonna remove student loans or give us healthcare he needs to stop the sun from going down before 6pm\n",
            "Biden Administration = The definition of corruption https://t.co/QGu12lqL6X\n",
            "RT @StephenMoore: Tax increases in Joe Biden's Build Back Better plan will destroy nearly 5 million jobs.\n",
            "\n",
            "Pass it on.\n",
            "RT @chipfranklin: If you support President Biden and want his ENTIRE agenda to pass, retweet this and follow my friends at @CalltoActivism.…\n",
            "@CaptRogerVictor @VP Will this be yet another administration that flies in older, thirstier, aircraft while sitting… https://t.co/NVEAcphq9c\n",
            "RT @Jim_Jordan: Secretary Mayorkas and Vice President Harris ignored the border crisis. \n",
            "\n",
            "Secretary Buttigieg disappeared during the supply…\n",
            "RT @costareports: Important to remember what prompted the subpoena — scenes in PERIL showing Bannon and Trump speaking about the 6th, think…\n",
            "RT @donwinslow: EXPLOSIVE NEW VIDEO! #JoeManchinSenatorForSale\n",
            "\n",
            "@Sen_JoeManchin is blocking Joe Biden's agenda.\n",
            "\n",
            "We found so much vile and…\n",
            "RT @ZiyaOnis: Joe Biden’s two-front war for democracy https://t.co/e8BakmxoAH\n",
            "RT @Chellaney: In just two months since Biden's surrender of Afghanistan to terrorists, India's security in J&amp;K has come under renewed terr…\n",
            "RT @KamVTV: Joe Biden’s America. https://t.co/92k2685UB1\n",
            "RT @chipfranklin: If you support President Biden and want his ENTIRE agenda to pass, retweet this and follow my friends at @CalltoActivism.…\n",
            "EXPLAINED: Biden’s 'DANGEROUS' new climate finance report is all about C... https://t.co/KKiSxhdq4a via @YouTube\n",
            "RT @nwmalinowski: Biden's DOJ seeking \"terrorism\" enhancements to Black Lives Matter protesters arrested for property damage. \n",
            "\n",
            "https://t.c…\n",
            "RT @JimmyPatronis: Looks like the IRS is willing to move their reporting requirement from a $600 to $10K threshold. Ok then. If the Biden A…\n",
            "@InsideEdition Canadian and Americans Missionary huh? Them Canadian should know a mission with Americans. At this c… https://t.co/qUZMCYmpE5\n",
            "RT @GeorgiaLogCabin: Biden entirely to blame for skyrocketing fuel prices https://t.co/t6bdgPF7eQ\n",
            "RT @DeAngelisCorey: BREAKING: Indiana \"Attorney General Todd Rokita leads 17-state effort to protect parents from Biden administration's in…\n",
            "RT @donwinslow: EXPLOSIVE NEW VIDEO! #JoeManchinSenatorForSale\n",
            "\n",
            "@Sen_JoeManchin is blocking Joe Biden's agenda.\n",
            "\n",
            "We found so much vile and…\n",
            "RT @ChristinaPushaw: @townhallcom @PressSec Remarkable that the height of frivolous consumption, according to the Biden Administration, is…\n",
            "RT @amyewalter: At this point in ‘17, Trump not only underwater with independents,  but most *strongly* disapproved of him. Indies are more…\n",
            "RT @HawaiiDelilah: He's right.  All the media covers is how Biden &amp; the Democrats can't get BBB passed despite having a majority. And that'…\n",
            "\"I think Biden is the President just like OJ is innocent.\" - \n",
            "@KariLake \n",
            "\n",
            "https://t.co/ALEKGipfiG\n",
            "RT @AndrewPollackFL: Texas Sheriff Brad Coe announces his plan to DEPUTIZE LOCAL CITIZENS to Fight Back Against Biden Border Crisis! \n",
            "\n",
            "Powe…\n",
            "RT @amyewalter: Biden less personally polarizing than Trump (no tweeting or personal attacks), yet Republican voters dislike of Biden is ju…\n",
            "US President Joe Biden has nominated Donald Blome, currently ambassador to Tunisia, as his top diplomat in Pakistan… https://t.co/TcYKuPh4RU\n",
            "RT @Sogburn57: @POTUS Thank you President Biden. Keep up the good work. Remember 81 million Americans still are behind you and believe in y…\n",
            "RT @mikepompeo: The Biden Administration chose politics over people when they got rid of the Remain in Mexico policy. Now, only after SCOTU…\n",
            "https://t.co/60LNB1SKet\n",
            "RT @SeanCasten: If you care about the planet.  If you care about US leadership.  If you care about our children.  If you care about afforda…\n",
            "RT @bennyjohnson: Biden has made 24 trips to Delaware so far in his presidency. \n",
            "\n",
            "Guess how many times he’s been to the border?\n",
            "\n",
            "You guesse…\n",
            "RT @KaivanShroff: Joe Biden is diversifying the courts. So so important. Take the win. Celebrate the win.\n",
            "RT @seanhannity: Rapper’s ‘Let’s Go Brandon’ Song Spoof of ‘F*** Joe Biden’ Reaches Number One on iTunes Hip Hop Chart https://t.co/WF8SI8v…\n",
            "RT @chipfranklin: If you support President Biden and want his ENTIRE agenda to pass, retweet this and follow my friends at @CalltoActivism.…\n",
            "RT @donwinslow: EXPLOSIVE NEW VIDEO! #JoeManchinSenatorForSale\n",
            "\n",
            "@Sen_JoeManchin is blocking Joe Biden's agenda.\n",
            "\n",
            "We found so much vile and…\n",
            "RT @AP: BREAKING: A House committee investigating the Jan. 6 Capitol insurrection has voted unanimously to hold former White House aide Ste…\n",
            "RT @WrittenByHanna: I was told it’d be easier to organize under Biden\n",
            "RT @WR4NYGov: Biden administration putting two Tesla haters in charge of the NHTSA.\n",
            "\n",
            "Why does @POTUS hate the safest and cleanest vehicles…\n",
            "RT @WhiteHouse: Research shows that the historic, long-term investments made by President Biden’s Build Back Better Agenda will increase la…\n",
            "RT @djrothkopf: New study shows massive rebound in approval ratings for US from countries worldwide under Biden.  Trump hit record low.  Bi…\n",
            "RT @HummaSaif: Biden picks career diplomat for top posting in Pakistan | Reuters https://t.co/9HSE4v5QsV\n",
            "RT @EliseStefanik: People in New York are being fired from their jobs for not being vaccinated while Joe Biden is flying planeloads of ille…\n",
            "@Terciot71 Venga majete palante que aprendí mucho de los segundos que estuve con Biden. Pobre periodista.\n",
            "RT @HelenSandersW: WE NEED TO STAND WITH OUR HONORABLE PRESIDENT JOE BIDEN. FOLLOW NOW @StandWith_Biden TO SPREAD TYE MESSAGE. \n",
            "\n",
            "@StandWith…\n",
            "@AGG_500 @countryclubcn In all honesty I feel badly if she had postpartum depression but no one is \"punching down\"… https://t.co/61IaZOaNV4\n",
            "@AndrewOlding @cedar1900 @CrystalSoul42 @JoAnnDillensch1 @POTUS He does not that when Biden said they don’t it’s be… https://t.co/ccSEjvwnBa\n",
            "RT @MarinaMedvin: Before we left USSR my dad took me to a store, full of empty shelves. One jar of picked tomatoes in the whole store. I as…\n",
            "RT @JMVivancoHRW: Hace más de 3 décadas que no veía una situación tan desafiante para los DDHH en América Latina. \n",
            "\n",
            "España tiene un rol imp…\n",
            "RT @Qnie_Addis: 3/ During our analysis we also observed a disturbing propensity to refer to the #GOE as @AbiyAhmedAli! Ever heard of the US…\n",
            "Iran poll contains different messages for Biden and Raisi https://t.co/Qjo52P3KHa #Iranian #nuclear #Biden https://t.co/FnIgcad6nb\n",
            "RT @RaeMargaret61: Steve Bannon Says He Helped Plan Jan. 6th to Kill Biden Presidency – Rolling Stone https://t.co/xADNuNShkp\n",
            "RT @markmobility: Biden's response to Colin Powell's death (left)\n",
            "Trump's response (right) https://t.co/77BF50mRbF\n",
            "RT @PapiTrumpo: I'll say it... FUCK JOE BIDEN AND HIS VACCINE MANDATES!!! https://t.co/BxzQgtmSAS\n",
            "Biden admin: \"Believe science! Trust the science and data!\" (On covid)\n",
            "\n",
            "Also, Biden admin:  \"Science is about feeli… https://t.co/Ibu8SlpqHU\n",
            "RT @WEschenbach: For those wondering why we're not hearing about adverse reactions to the COVID vaccines ... it's because OSHA is not enfor…\n",
            "Y a t-il une #Barniermania chez les jeunes #LR ? C'est du @VenturaAlba mais s’il était évident que pour le bloc bou… https://t.co/2twvvmxYJq\n",
            "RT @YosoyPedrero: Hoy en su sección: «soy oposición y todo me sale mal».\n",
            "\n",
            "Un día dicen que el gobierno de AMLO contamina y es un atentado a…\n",
            "RT @RadioPakistan: The US President Joe Biden has nominated Donald Armin Blome as next Ambassador to Pakistan\n",
            "@ForeignOfficePk @usembislama…\n",
            "RT @robreiner: It’s insanity that one man can stand in the way of equal access to the ballot box and a sustainable planet. I voted for Joe…\n",
            "RT @zachsdorfman: Schiff's comments follow a letter sent yesterday to AG Garland from 24 civil liberties/press freedom groups, including th…\n",
            "RT @SenJohnThune: Winter is coming.\n",
            "And thanks to President Biden, it will be expensive. https://t.co/USPjn0OBf8\n",
            "How the pandemic and the election of Joe Biden as US president changed the global tax game https://t.co/Vmn3Ys9YIT\n",
            "RT @SMaulberger: Poll: Biden’s Approval Rating Sinks to 37 Percent   It’s really 10% https://t.co/CkDtnriSm6\n",
            "a vote for joe biden was a vote for joe manchin to be president\n",
            "\"Thank you BLM advocates and protestors for helping me get elected, you're a f*cking terrorist\"\n",
            "\n",
            "The Progressive De… https://t.co/1bYfwrIM1z\n",
            "@buddhist68 @mmpadellan biden can't fire him, unfortunately. it has to be done by the usps boardmembers and they all like the guy\n",
            "RT @newsbusters: Americans and thousands of allies and green card holders are still stranded in Afghanistan, left abandoned by the Biden ad…\n",
            "RT @YosoyPedrero: Hoy en su sección: «soy oposición y todo me sale mal».\n",
            "\n",
            "Un día dicen que el gobierno de AMLO contamina y es un atentado a…\n",
            "RT @w_terrence: I heard from a credible source that Dr. Jill Biden has been sleeping around with a secret service agent and doesn’t care ab…\n",
            "@patriottakes They don’t understand that this is a global problem, not Biden’s\n",
            "RT @CortesSteve: Hispanic approval of Biden at only 36% -- per latest Quinnipiac poll -- as the #BidenInflation surge bites working class L…\n",
            "RT @CalltoActivism: BREAKING - Global approval of U.S. leadership in 46 countries skyrockets under Biden according to a new Gallop poll.…\n",
            "RT @MattWalshBlog: The Biden Administration called “Rachel” Levine a female. Not woman. Female. Notice how the whole “sex and gender are di…\n",
            "RT @CalltoActivism: BREAKING - Global approval of U.S. leadership in 46 countries skyrockets under Biden according to a new Gallop poll.…\n",
            "@realDailyWire This explains Biden's cough and why he seems disoriented.\n",
            "RT @CNN: President Biden takes questions in an exclusive CNN Presidential Town Hall. Anderson Cooper moderates. Live – Thursday at 8 p.m. E…\n",
            "@JerryMoran I’m not surprised!  Fear mongering is the catalyst of this administration.  Is Biden running the roost?… https://t.co/iLtlb6wvZv\n",
            "RT @JudiciaryGOP: Joe Biden: \n",
            "\n",
            "“Make America Average Again.”\n",
            "RT @EliseStefanik: People in New York are being fired from their jobs for not being vaccinated while Joe Biden is flying planeloads of ille…\n",
            "Analysis: Gas prices are high. That could mess with Biden's climate agenda - CNN https://t.co/0Rhme2K3pt\n",
            "RT @sahilkapur: Some context on price tags:\n",
            "\n",
            "The $725.8 billion defense spending bill is for 1 year.\n",
            "\n",
            "The $3.5 trillion Build Back Better p…\n",
            "เหมือน Biden ยังไม่เปลี่ยนเรื่องจีนเลย 555 https://t.co/mhCOJKuV1s\n",
            "RT @magi_jay: The cost of childcare is exorbitant. Women leave the workforce all the time &amp; lose their earning potential, as well as their…\n",
            "RT @awhawth: Oof, does not bode well for Biden's 'democracy' summit:\n",
            "“We’re not seeking to define who is a democracy who is not a democracy…\n",
            "RT @RepLizCheney: Biden declines Trump request to withhold White House records from Jan. 6 committee https://t.co/s3DRHdsVnO\n",
            "RT @mikepompeo: The Biden Administration chose politics over people when they got rid of the Remain in Mexico policy. Now, only after SCOTU…\n",
            "@SmitArianna @lisargadata @Charles96432447 @Anna302478978 @modamanager @Hero9004 @eretico_l @Victoria_Wet… https://t.co/ZgrnOKKbk7\n",
            "RT @StandWith_Biden: BREAKING: President Biden is hosting 2 separate in-person meetings with moderate and progressive House members tomorro…\n",
            "RT @PalmerReport: President Biden’s COVID vaccine mandates are working. Pass it on.\n",
            "@rodinfla @marciemaried @BrigadeCitizens @DineshDSouza Biden DID NOT STOP DRILLING!!!! The world is at the mercy of… https://t.co/oavl7AOzpi\n",
            "RT @jilevin: Manchin, Sanders to seek deal on Biden agenda https://t.co/59zfupEa4d\n",
            "And the fact Biden never wanted to do anything to help anyone. He just wanted to make it seem like he tired. He dea… https://t.co/qzlXwyOmm7\n",
            "RT @Doranimated: Azer­baijan is knock­ing Tehran off bal­ance. Israel recognizes as much and so is assisting Baku. But the US is misreading…\n",
            "RT @donwinslow: EXPLOSIVE NEW VIDEO! #JoeManchinSenatorForSale\n",
            "\n",
            "@Sen_JoeManchin is blocking Joe Biden's agenda.\n",
            "\n",
            "We found so much vile and…\n",
            "RT @RepStefanik: Joe Biden is downplaying his economic crisis.\n",
            "RT @TheRealAndrew_: Sounds like the tuition-free community college package in Biden’s “Build Back Better” plan is more than likely going to…\n",
            "@tuttifrutti163 Zoals altijd: nuance!😉\n",
            "Maar mijn grootste woede is nog altijd NIET dat Biden won, maar dat hij won… https://t.co/M0HknL28jU\n"
          ]
        }
      ]
    },
    {
      "cell_type": "markdown",
      "metadata": {
        "id": "BZHvg2kOaQZx"
      },
      "source": [
        "## **Preprocessing the Tweets**"
      ]
    },
    {
      "cell_type": "code",
      "metadata": {
        "colab": {
          "base_uri": "https://localhost:8080/"
        },
        "id": "DYNhGkrIaXfP",
        "outputId": "898d552c-bc15-474e-d514-af524bbcaa6c"
      },
      "source": [
        "import nltk\n",
        "nltk.download('punkt')\n",
        "nltk.download('stopwords')\n",
        "nltk.download('wordnet')\n",
        "stop_words = set(stopwords.words('english'))"
      ],
      "execution_count": 16,
      "outputs": [
        {
          "output_type": "stream",
          "name": "stdout",
          "text": [
            "[nltk_data] Downloading package punkt to /root/nltk_data...\n",
            "[nltk_data]   Package punkt is already up-to-date!\n",
            "[nltk_data] Downloading package stopwords to /root/nltk_data...\n",
            "[nltk_data]   Package stopwords is already up-to-date!\n",
            "[nltk_data] Downloading package wordnet to /root/nltk_data...\n",
            "[nltk_data]   Package wordnet is already up-to-date!\n"
          ]
        }
      ]
    },
    {
      "cell_type": "code",
      "metadata": {
        "id": "VBP44tkFA9fJ",
        "colab": {
          "base_uri": "https://localhost:8080/"
        },
        "outputId": "b3e63f3e-3f70-4c02-8c5c-bdc8a699227a"
      },
      "source": [
        "for tweet in tweets:\n",
        "  #to lowercase\n",
        "  tweet = str(tweet.text).lower()\n",
        "\n",
        "  # Removing URL\n",
        "  tweet = re.sub(r\"https\\S+|www\\S+|https\\S+\", \"\", tweet, flags=re.MULTILINE)\n",
        "\n",
        "  # Removing punctuations\n",
        "  tweet = tweet.translate(str.maketrans(\"\", \"\", string.punctuation))\n",
        "\n",
        "  # Removing special characters\n",
        "  tweet = re.sub(r'\\@\\w+|#', \"\", tweet)\n",
        "  \n",
        "  # Tokenization\n",
        "  tweet_tokens = word_tokenize(tweet)\n",
        "  filter_words = [word for word in tweet_tokens if word not in stop_words]\n",
        "\n",
        "  # Stemming\n",
        "  ps = PorterStemmer()\n",
        "  stem_words = [ps.stem(w) for w in tweet_tokens]\n",
        "\n",
        "  # Lemmatizing\n",
        "  lemmatizer = WordNetLemmatizer()\n",
        "  lemma_words = [lemmatizer.lemmatize(w, pos='a') for w in stem_words]\n",
        "\n",
        "  tweet = \" \".join(lemma_words)\n",
        "  print(tweet)"
      ],
      "execution_count": 17,
      "outputs": [
        {
          "output_type": "stream",
          "name": "stdout",
          "text": [
            "rt bocxtop if joe biden not gon na remov student loan or give us healthcar he need to stop the sun from go down befor 6pm\n",
            "biden administr the definit of corrupt\n",
            "rt stephenmoor tax increas in joe biden build back good plan will destroy nearli 5 million job pass it on\n",
            "rt chipfranklin if you support presid biden and want hi entir agenda to pass retweet thi and follow my friend at calltoactivism…\n",
            "captrogervictor vp will thi be yet anoth administr that fli in old thirsty aircraft while sitting…\n",
            "rt jimjordan secretari mayorka and vice presid harri ignor the border crisi secretari buttigieg disappear dure the supply…\n",
            "rt costareport import to rememb what prompt the subpoena — scene in peril show bannon and trump speak about the 6th think…\n",
            "rt donwinslow explos new video joemanchinsenatorforsal senjoemanchin is block joe biden agenda we found so much vile and…\n",
            "rt ziyaoni joe biden ’ s twofront war for democraci\n",
            "rt chellaney in just two month sinc biden surrend of afghanistan to terrorist india secur in jampk ha come under renew terr…\n",
            "rt kamvtv joe biden ’ s america\n",
            "rt chipfranklin if you support presid biden and want hi entir agenda to pass retweet thi and follow my friend at calltoactivism…\n",
            "explain biden ’ s danger new climat financ report is all about c via youtub\n",
            "rt nwmalinowski biden doj seek terror enhanc to black live matter protest arrest for properti damag\n",
            "rt jimmypatroni look like the ir is will to move their report requir from a 600 to 10k threshold ok then if the biden a…\n",
            "insideedit canadian and american missionari huh them canadian should know a mission with american at thi c…\n",
            "rt georgialogcabin biden entir to blame for skyrocket fuel price\n",
            "rt deangeliscorey break indiana attorney gener todd rokita lead 17state effort to protect parent from biden administr in…\n",
            "rt donwinslow explos new video joemanchinsenatorforsal senjoemanchin is block joe biden agenda we found so much vile and…\n",
            "rt christinapushaw townhallcom presssec remark that the height of frivol consumpt accord to the biden administr is…\n",
            "rt amyewalt at thi point in ‘ 17 trump not onli underwat with independ but most strongli disapprov of him indi are more…\n",
            "rt hawaiidelilah he right all the media cover is how biden amp the democrat cant get bbb pass despit have a major and that…\n",
            "i think biden is the presid just like oj is innoc karilak\n",
            "rt andrewpollackfl texa sheriff brad coe announc hi plan to deput local citizen to fight back against biden border crisi powe…\n",
            "rt amyewalt biden less person polar than trump no tweet or person attack yet republican voter dislik of biden is ju…\n",
            "us presid joe biden ha nomin donald blome current ambassador to tunisia as hi top diplomat in pakistan…\n",
            "rt sogburn57 potu thank you presid biden keep up the good work rememb 81 million american still are behind you and believ in y…\n",
            "rt mikepompeo the biden administr chose polit over peopl when they got rid of the remain in mexico polici now onli after scotu…\n",
            "\n",
            "rt seancasten if you care about the planet if you care about us leadership if you care about our children if you care about afforda…\n",
            "rt bennyjohnson biden ha made 24 trip to delawar so far in hi presid guess how mani time he ’ s been to the border you guesse…\n",
            "rt kaivanshroff joe biden is diversifi the court so so import take the win celebr the win\n",
            "rt seanhann rapper ’ s ‘ let ’ s go brandon ’ song spoof of ‘ f joe biden ’ reach number one on itun hip hop chart\n",
            "rt chipfranklin if you support presid biden and want hi entir agenda to pass retweet thi and follow my friend at calltoactivism…\n",
            "rt donwinslow explos new video joemanchinsenatorforsal senjoemanchin is block joe biden agenda we found so much vile and…\n",
            "rt ap break a hous committe investig the jan 6 capitol insurrect ha vote unanim to hold former white hous aid ste…\n",
            "rt writtenbyhanna i wa told it ’ d be easy to organ under biden\n",
            "rt wr4nygov biden administr put two tesla hater in charg of the nhtsa whi doe potu hate the safe and clean vehicles…\n",
            "rt whitehous research show that the histor longterm invest made by presid biden ’ s build back good agenda will increas la…\n",
            "rt djrothkopf new studi show massiv rebound in approv rate for us from countri worldwid under biden trump hit record low bi…\n",
            "rt hummasaif biden pick career diplomat for top post in pakistan reuter\n",
            "rt elisestefanik peopl in new york are be fire from their job for not be vaccin while joe biden is fli planeload of ille…\n",
            "terciot71 venga majet palant que aprendí mucho de lo segundo que estuv con biden pobr periodista\n",
            "rt helensandersw we need to stand with our honor presid joe biden follow now standwithbiden to spread tye messag standwith…\n",
            "agg500 countryclubcn in all honesti i feel badli if she had postpartum depress but no one is punch down…\n",
            "andrewold cedar1900 crystalsoul42 joanndillensch1 potu he doe not that when biden said they don ’ t it ’ s be…\n",
            "rt marinamedvin befor we left ussr my dad took me to a store full of empti shelv one jar of pick tomato in the whole store i as…\n",
            "rt jmvivancohrw hace má de 3 década que no veía una situación tan desafiant para lo ddhh en américa latina españa tien un rol imp…\n",
            "rt qnieaddi 3 dure our analysi we also observ a disturb propens to refer to the goe as abiyahmedali ever heard of the us…\n",
            "iran poll contain differ messag for biden and raisi iranian nuclear biden\n",
            "rt raemargaret61 steve bannon say he help plan jan 6th to kill biden presid – roll stone\n",
            "rt markmobl biden respons to colin powel death left trump respons right\n",
            "rt papitrumpo ill say it fuck joe biden and hi vaccin mandat\n",
            "biden admin believ scienc trust the scienc and data on covid also biden admin scienc is about feeli…\n",
            "rt weschenbach for those wonder whi were not hear about advers reaction to the covid vaccin it becaus osha is not enfor…\n",
            "y a til une barniermania chez le jeun lr c du venturaalba mai s ’ il était évident que pour le bloc bou…\n",
            "rt yosoypedrero hoy en su sección « soy oposición y todo me sale mal » un día dicen que el gobierno de amlo contamina y es un atentado a…\n",
            "rt radiopakistan the us presid joe biden ha nomin donald armin blome as next ambassador to pakistan foreignofficepk usembislama…\n",
            "rt robrein it ’ s insan that one man can stand in the way of equal access to the ballot box and a sustain planet i vote for joe…\n",
            "rt zachsdorfman schiff comment follow a letter sent yesterday to ag garland from 24 civil libertiespress freedom group includ th…\n",
            "rt senjohnthun winter is come and thank to presid biden it will be expens\n",
            "how the pandem and the elect of joe biden as us presid chang the global tax game\n",
            "rt smaulberg poll biden ’ s approv rate sink to 37 percent it ’ s realli 10\n",
            "a vote for joe biden wa a vote for joe manchin to be presid\n",
            "thank you blm advoc and protestor for help me get elect your a fcking terrorist the progress de…\n",
            "buddhist68 mmpadellan biden cant fire him unfortun it ha to be done by the usp boardmemb and they all like the guy\n",
            "rt newsbust american and thousand of alli and green card holder are still strand in afghanistan left abandon by the biden ad…\n",
            "rt yosoypedrero hoy en su sección « soy oposición y todo me sale mal » un día dicen que el gobierno de amlo contamina y es un atentado a…\n",
            "rt wterrenc i heard from a credibl sourc that dr jill biden ha been sleep around with a secret servic agent and doesn ’ t care ab…\n",
            "patriottak they don ’ t understand that thi is a global problem not biden ’ s\n",
            "rt cortesstev hispan approv of biden at onli 36 per late quinnipiac poll as the bideninfl surg bite work class l…\n",
            "rt calltoactiv break global approv of us leadership in 46 countri skyrocket under biden accord to a new gallop poll…\n",
            "rt mattwalshblog the biden administr call “ rachel ” levin a femal not woman femal notic how the whole “ sex and gender are di…\n",
            "rt calltoactiv break global approv of us leadership in 46 countri skyrocket under biden accord to a new gallop poll…\n",
            "realdailywir thi explain biden cough and whi he seem disori\n",
            "rt cnn presid biden take question in an exclus cnn presidenti town hall anderson cooper mod live – thursday at 8 pm e…\n",
            "jerrymoran i ’ m not surpris fear monger is the catalyst of thi administr is biden run the roost…\n",
            "rt judiciarygop joe biden “ make america averag again ”\n",
            "rt elisestefanik peopl in new york are be fire from their job for not be vaccin while joe biden is fli planeload of ille…\n",
            "analysi ga price are high that could mess with biden climat agenda cnn\n",
            "rt sahilkapur some context on price tag the 7258 billion defens spend bill is for 1 year the 35 trillion build back good p…\n",
            "เหมือน biden ยังไม่เปลี่ยนเรื่องจีนเลย 555\n",
            "rt magijay the cost of childcar is exorbit women leav the workforc all the time amp lose their earn potenti as well as their…\n",
            "rt awhawth oof doe not bode well for biden democraci summit “ we ’ re not seek to defin who is a democraci who is not a democracy…\n",
            "rt replizcheney biden declin trump request to withhold white hous record from jan 6 committe\n",
            "rt mikepompeo the biden administr chose polit over peopl when they got rid of the remain in mexico polici now onli after scotu…\n",
            "smitarianna lisargadata charles96432447 anna302478978 modamanag hero9004 ereticol victoriawet…\n",
            "rt standwithbiden break presid biden is host 2 separ inperson meet with mod and progress hous member tomorro…\n",
            "rt palmerreport presid biden ’ s covid vaccin mandat are work pass it on\n",
            "rodinfla marciemari brigadecitizen dineshdsouza biden did not stop drill the world is at the merci of…\n",
            "rt jilevin manchin sander to seek deal on biden agenda\n",
            "and the fact biden never want to do anyth to help anyon he just want to make it seem like he tire he dea…\n",
            "rt doranim azer­baijan is knock­ tehran off bal­anc israel recogn as much and so is assist baku but the us is misreading…\n",
            "rt donwinslow explos new video joemanchinsenatorforsal senjoemanchin is block joe biden agenda we found so much vile and…\n",
            "rt repstefanik joe biden is downplay hi econom crisi\n",
            "rt therealandrew sound like the tuitionfre commun colleg packag in biden ’ s “ build back good ” plan is more than like go to…\n",
            "tuttifrutti163 zoal altijd nuance😉 maar mijn grootst woed is nog altijd niet dat biden won maar dat hij won…\n"
          ]
        }
      ]
    },
    {
      "cell_type": "markdown",
      "metadata": {
        "id": "eaX1yFBRdCGi"
      },
      "source": [
        "## **Plotting Pie Chart and Bar Graph**"
      ]
    },
    {
      "cell_type": "code",
      "metadata": {
        "colab": {
          "base_uri": "https://localhost:8080/",
          "height": 298
        },
        "id": "2XpPexUkz0fh",
        "outputId": "cb4abd58-42ce-46b8-be51-b6d2f2560b49"
      },
      "source": [
        "# Calculating no. of positive, negative and neutral tweets\n",
        "pos=0\n",
        "neg=0\n",
        "neu=0\n",
        "\n",
        "for tweet in tweets:\n",
        "  #here it will apply NLP\n",
        "  analysis = TextBlob(tweet.text)\n",
        "\n",
        "  if analysis.sentiment.polarity > 0:\n",
        "     pos=pos+1\n",
        "  elif analysis.sentiment.polarity == 0 :\n",
        "     neu=neu+1\n",
        "  else :\n",
        "     neg=neg+1\n",
        "print(\"Positive tweets: \",pos)  \n",
        "print(\"Negative tweets: \",neg)  \n",
        "print(\" Neutral tweets: \",neu)  \n",
        "\n",
        "# ploting piechart\n",
        "plt.pie([pos,neg,neu],labels=['pos','neg','neu'],autopct=\"%1.1f%%\",colors=['green','red','yellow'])\n",
        "plt.show()"
      ],
      "execution_count": 18,
      "outputs": [
        {
          "output_type": "stream",
          "name": "stdout",
          "text": [
            "Positive tweets:  34\n",
            "Negative tweets:  18\n",
            " Neutral tweets:  45\n"
          ]
        },
        {
          "output_type": "display_data",
          "data": {
            "image/png": "[encoded data removed]",
            "text/plain": [
              "<Figure size 432x288 with 1 Axes>"
            ]
          },
          "metadata": {}
        }
      ]
    },
    {
      "cell_type": "code",
      "metadata": {
        "colab": {
          "base_uri": "https://localhost:8080/",
          "height": 279
        },
        "id": "XCjo2AcMkrOh",
        "outputId": "e14c53a9-1f09-4f1b-87b8-d0077bc33642"
      },
      "source": [
        "# ploting Bargraph\n",
        "x = np.array(['pos','neg','neu'])\n",
        "y = np.array([pos,neg,neu])\n",
        "\n",
        "colors=['green','red','yellow']\n",
        "plt.bar(x, y, color = colors)\n",
        "\n",
        "plt.xlabel(\"Sentiment\")\n",
        "plt.ylabel(\"No. of tweets\")\n",
        "plt.show()"
      ],
      "execution_count": 11,
      "outputs": [
        {
          "output_type": "display_data",
          "data": {
            "image/png": "[encoded data removed]",
            "text/plain": [
              "<Figure size 432x288 with 1 Axes>"
            ]
          },
          "metadata": {
            "needs_background": "light"
          }
        }
      ]
    },
    {
      "cell_type": "code",
      "metadata": {
        "id": "w7swWNQOfSHa"
      },
      "source": [
        ""
      ],
      "execution_count": null,
      "outputs": []
    }
  ]
}
